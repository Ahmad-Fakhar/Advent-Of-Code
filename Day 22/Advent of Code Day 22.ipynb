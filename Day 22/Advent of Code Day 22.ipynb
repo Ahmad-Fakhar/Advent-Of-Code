{
  "cells": [
    {
      "cell_type": "markdown",
      "metadata": {
        "id": "5-Eb8XBrxw8M"
      },
      "source": [
        "```\n",
        "--- Day 22: Monkey Market ---\n",
        "As you're all teleported deep into the jungle, a monkey steals The Historians' device! You'll need get it back while The Historians are looking for the Chief.\n",
        "\n",
        "The monkey that stole the device seems willing to trade it, but only in exchange for an absurd number of bananas. Your only option is to buy bananas on the Monkey Exchange Market.\n",
        "\n",
        "You aren't sure how the Monkey Exchange Market works, but one of The Historians senses trouble and comes over to help. Apparently, they've been studying these monkeys for a while and have deciphered their secrets.\n",
        "\n",
        "Today, the Market is full of monkeys buying good hiding spots. Fortunately, because of the time you recently spent in this jungle, you know lots of good hiding spots you can sell! If you sell enough hiding spots, you should be able to get enough bananas to buy the device back.\n",
        "\n",
        "On the Market, the buyers seem to use random prices, but their prices are actually only pseudorandom! If you know the secret of how they pick their prices, you can wait for the perfect time to sell.\n",
        "\n",
        "The part about secrets is literal, the Historian explains. Each buyer produces a pseudorandom sequence of secret numbers where each secret is derived from the previous.\n",
        "\n",
        "In particular, each buyer's secret number evolves into the next secret number in the sequence via the following process:\n",
        "\n",
        "Calculate the result of multiplying the secret number by 64. Then, mix this result into the secret number. Finally, prune the secret number.\n",
        "Calculate the result of dividing the secret number by 32. Round the result down to the nearest integer. Then, mix this result into the secret number. Finally, prune the secret number.\n",
        "Calculate the result of multiplying the secret number by 2048. Then, mix this result into the secret number. Finally, prune the secret number.\n",
        "Each step of the above process involves mixing and pruning:\n",
        "\n",
        "To mix a value into the secret number, calculate the bitwise XOR of the given value and the secret number. Then, the secret number becomes the result of that operation. (If the secret number is 42 and you were to mix 15 into the secret number, the secret number would become 37.)\n",
        "To prune the secret number, calculate the value of the secret number modulo 16777216. Then, the secret number becomes the result of that operation. (If the secret number is 100000000 and you were to prune the secret number, the secret number would become 16113920.)\n",
        "After this process completes, the buyer is left with the next secret number in the sequence. The buyer can repeat this process as many times as necessary to produce more secret numbers.\n",
        "\n",
        "```"
      ]
    },
    {
      "cell_type": "code",
      "execution_count": 1,
      "metadata": {
        "colab": {
          "base_uri": "https://localhost:8080/"
        },
        "id": "o232neggpotQ",
        "outputId": "2f5007c9-a384-43f8-bfdc-77e4a4ff009d"
      },
      "outputs": [
        {
          "name": "stdout",
          "output_type": "stream",
          "text": [
            "Sum of the 2000th secret numbers: 20506453102\n"
          ]
        }
      ],
      "source": [
        "# Function to calculate the next secret number in the sequence\n",
        "def generate_next_secret(secret_number):\n",
        "    # Step 1: Multiply by 64, mix, prune\n",
        "    secret_number ^= (secret_number * 64) % 16777216\n",
        "    secret_number %= 16777216\n",
        "\n",
        "    # Step 2: Divide by 32 (integer division), mix, prune\n",
        "    secret_number ^= (secret_number // 32) % 16777216\n",
        "    secret_number %= 16777216\n",
        "\n",
        "    # Step 3: Multiply by 2048, mix, prune\n",
        "    secret_number ^= (secret_number * 2048) % 16777216\n",
        "    secret_number %= 16777216\n",
        "\n",
        "    return secret_number\n",
        "\n",
        "# Function to simulate the sequence and get the 2000th secret number\n",
        "def simulate_buyer(initial_secret):\n",
        "    secret = initial_secret\n",
        "    for _ in range(2000):\n",
        "        secret = generate_next_secret(secret)\n",
        "    return secret\n",
        "\n",
        "# Main function to read input and calculate the result\n",
        "def main():\n",
        "    # Read input from file\n",
        "    with open(\"input.txt\", \"r\") as file:\n",
        "        initial_secrets = [int(line.strip()) for line in file.readlines()]\n",
        "\n",
        "    # Calculate the 2000th secret number for each buyer\n",
        "    results = [simulate_buyer(secret) for secret in initial_secrets]\n",
        "\n",
        "    # Calculate the total sum of the 2000th secret numbers\n",
        "    total_sum = sum(results)\n",
        "\n",
        "    # Print the result\n",
        "    print(\"Sum of the 2000th secret numbers:\", total_sum)\n",
        "\n",
        "# Run the main function\n",
        "if __name__ == \"__main__\":\n",
        "    main()\n"
      ]
    },
    {
      "cell_type": "markdown",
      "metadata": {
        "id": "UcggokczzZYs"
      },
      "source": [
        "```\n",
        "--- Part Two ---\n",
        "Of course, the secret numbers aren't the prices each buyer is offering! That would be ridiculous. Instead, the prices the buyer offers are just the ones digit of each of their secret numbers.\n",
        "\n",
        "\n",
        "```"
      ]
    },
    {
      "cell_type": "code",
      "execution_count": 3,
      "metadata": {
        "colab": {
          "base_uri": "https://localhost:8080/"
        },
        "id": "IRWEsaL7vkLJ",
        "outputId": "c89dd7e2-8a6e-4bac-eea8-c0a9ce18ce0f"
      },
      "outputs": [
        {
          "name": "stdout",
          "output_type": "stream",
          "text": [
            "Best sequence: [0, 0, -1, 2]\n",
            "Maximum bananas: 2423\n"
          ]
        }
      ],
      "source": [
        "def generate_next_secret(secret_number):\n",
        "    secret_number ^= (secret_number * 64) % 16777216\n",
        "    secret_number %= 16777216\n",
        "    secret_number ^= (secret_number // 32) % 16777216\n",
        "    secret_number %= 16777216\n",
        "    secret_number ^= (secret_number * 2048) % 16777216\n",
        "    secret_number %= 16777216\n",
        "    return secret_number\n",
        "\n",
        "def get_price_sequence(initial_secret):\n",
        "    # Generate all prices at once\n",
        "    prices = []\n",
        "    secret = initial_secret\n",
        "    for _ in range(2001):  # We need 2001 to get 2000 changes\n",
        "        prices.append(secret % 10)\n",
        "        secret = generate_next_secret(secret)\n",
        "    return prices\n",
        "\n",
        "def find_sequences(prices):\n",
        "    # Create a dictionary to store where each sequence appears and its corresponding price\n",
        "    sequences = {}\n",
        "    changes = []\n",
        "\n",
        "    # Calculate all changes\n",
        "    for i in range(1, len(prices)):\n",
        "        changes.append(prices[i] - prices[i-1])\n",
        "\n",
        "    # For each position, record the 4-change sequence that starts there\n",
        "    for i in range(len(changes) - 3):\n",
        "        seq = tuple(changes[i:i+4])  # Convert to tuple so it can be used as dict key\n",
        "        if seq not in sequences:  # Only keep the first occurrence\n",
        "            sequences[seq] = prices[i+4]\n",
        "\n",
        "    return sequences\n",
        "\n",
        "def main():\n",
        "    with open(\"input.txt\", \"r\") as file:\n",
        "        initial_secrets = [int(line.strip()) for line in file.readlines()]\n",
        "\n",
        "    # Pre-calculate all sequences for each buyer\n",
        "    buyer_sequences = []\n",
        "    for secret in initial_secrets:\n",
        "        prices = get_price_sequence(secret)\n",
        "        sequences = find_sequences(prices)\n",
        "        buyer_sequences.append(sequences)\n",
        "\n",
        "    # Find the sequence that appears in most buyers with highest total\n",
        "    best_total = 0\n",
        "    best_sequence = None\n",
        "\n",
        "    # Get all unique sequences that appear in any buyer's data\n",
        "    all_sequences = set()\n",
        "    for sequences in buyer_sequences:\n",
        "        all_sequences.update(sequences.keys())\n",
        "\n",
        "    # Check each sequence that actually appears in the data\n",
        "    for seq in all_sequences:\n",
        "        total = sum(sequences.get(seq, 0) for sequences in buyer_sequences)\n",
        "        if total > best_total:\n",
        "            best_total = total\n",
        "            best_sequence = seq\n",
        "\n",
        "    print(f\"Best sequence: {list(best_sequence)}\")\n",
        "    print(f\"Maximum bananas: {best_total}\")\n",
        "\n",
        "if __name__ == \"__main__\":\n",
        "    main()"
      ]
    }
  ],
  "metadata": {
    "colab": {
      "provenance": []
    },
    "kernelspec": {
      "display_name": "Python 3",
      "name": "python3"
    },
    "language_info": {
      "name": "python"
    }
  },
  "nbformat": 4,
  "nbformat_minor": 0
}
