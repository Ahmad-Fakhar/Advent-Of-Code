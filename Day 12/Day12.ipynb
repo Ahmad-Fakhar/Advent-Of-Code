{
  "nbformat": 4,
  "nbformat_minor": 0,
  "metadata": {
    "colab": {
      "provenance": []
    },
    "kernelspec": {
      "name": "python3",
      "display_name": "Python 3"
    },
    "language_info": {
      "name": "python"
    }
  },
  "cells": [
    {
      "cell_type": "markdown",
      "source": [
        "# 🌱 Garden Groups - Fence Cost Calculation\n",
        "\n",
        "The puzzle involves calculating the total price of fencing around regions of garden plots based on their **area** and **perimeter**.\n",
        "\n",
        "## Problem Description\n",
        "\n",
        "### Garden Layout\n",
        "- Each garden plot grows a single type of plant, represented by a letter.\n",
        "- Adjacent plots of the same plant (horizontally or vertically) form a **region**.\n",
        "\n",
        "### Key Metrics\n",
        "- **Area**: Total number of plots in a region.\n",
        "- **Perimeter**: Total exposed sides of the region.\n",
        "\n",
        "### Fence Pricing\n",
        "- **Price per Region**: `area × perimeter`\n",
        "- **Total Price**: Sum of all region prices.\n",
        "\n",
        "### Bulk Discount\n",
        "For large orders, **perimeter** is replaced by the number of **sides**:\n",
        "- Each straight section of the fence counts as a side.\n",
        "- New **price per region**: `area × sides`\n",
        "___\n"
      ],
      "metadata": {
        "id": "NwboZUlJZMT3"
      }
    },
    {
      "cell_type": "code",
      "execution_count": null,
      "metadata": {
        "colab": {
          "base_uri": "https://localhost:8080/"
        },
        "id": "jE1-C0QmNo_S",
        "outputId": "67ec3887-d295-46e4-93b7-058bb7f719d3"
      },
      "outputs": [
        {
          "output_type": "stream",
          "name": "stdout",
          "text": [
            "Total fencing cost: 1361494\n"
          ]
        }
      ],
      "source": [
        "def read_map(file_path):\n",
        "    \"\"\"Reads the garden map from the input file.\"\"\"\n",
        "    with open(file_path, 'r') as file:\n",
        "        return [list(line.strip()) for line in file.readlines()]\n",
        "\n",
        "def flood_fill(grid, x, y, visited, plant_type):\n",
        "    \"\"\"Performs flood-fill to find a region and calculates its area and perimeter.\"\"\"\n",
        "    rows, cols = len(grid), len(grid[0])\n",
        "    stack = [(x, y)]\n",
        "    area = 0\n",
        "    perimeter = 0\n",
        "    visited.add((x, y))\n",
        "\n",
        "    # Directions for movement: up, down, left, right\n",
        "    directions = [(-1, 0), (1, 0), (0, -1), (0, 1)]\n",
        "\n",
        "    while stack:\n",
        "        cx, cy = stack.pop()\n",
        "        area += 1\n",
        "\n",
        "        for dx, dy in directions:\n",
        "            nx, ny = cx + dx, cy + dy\n",
        "            if 0 <= nx < rows and 0 <= ny < cols:\n",
        "                if grid[nx][ny] == plant_type:\n",
        "                    if (nx, ny) not in visited:\n",
        "                        visited.add((nx, ny))\n",
        "                        stack.append((nx, ny))\n",
        "                else:\n",
        "                    # Edge of the region\n",
        "                    perimeter += 1\n",
        "            else:\n",
        "                # Edge of the grid\n",
        "                perimeter += 1\n",
        "\n",
        "    return area, perimeter\n",
        "\n",
        "def calculate_fencing_cost(grid):\n",
        "    \"\"\"Calculates the total fencing cost for the garden.\"\"\"\n",
        "    rows, cols = len(grid), len(grid[0])\n",
        "    visited = set()\n",
        "    total_cost = 0\n",
        "\n",
        "    for x in range(rows):\n",
        "        for y in range(cols):\n",
        "            if (x, y) not in visited:\n",
        "                # Start a new region\n",
        "                plant_type = grid[x][y]\n",
        "                area, perimeter = flood_fill(grid, x, y, visited, plant_type)\n",
        "                total_cost += area * perimeter\n",
        "\n",
        "    return total_cost\n",
        "\n",
        "def main():\n",
        "    # Read the garden map from the input file\n",
        "    file_path = \"input.txt\"\n",
        "    garden_map = read_map(file_path)\n",
        "\n",
        "    # Calculate the total fencing cost\n",
        "    total_cost = calculate_fencing_cost(garden_map)\n",
        "\n",
        "    # Output the result\n",
        "    print(\"Total fencing cost:\", total_cost)\n",
        "\n",
        "if __name__ == \"__main__\":\n",
        "    main()\n"
      ]
    },
    {
      "cell_type": "markdown",
      "source": [
        "# Part 2"
      ],
      "metadata": {
        "id": "gpgr_lMYyc2s"
      }
    },
    {
      "cell_type": "code",
      "source": [
        "def find_regions(grid):\n",
        "    rows, cols = len(grid), len(grid[0])\n",
        "    visited = set()\n",
        "    regions = []\n",
        "\n",
        "    def dfs(r, c, plant_type):\n",
        "        if (r, c) in visited or r < 0 or c < 0 or r >= rows or c >= cols or grid[r][c] != plant_type:\n",
        "            return set()\n",
        "\n",
        "        cells = {(r, c)}\n",
        "        visited.add((r, c))\n",
        "\n",
        "        for dr, dc in [(0, 1), (1, 0), (0, -1), (-1, 0)]:\n",
        "            cells.update(dfs(r + dr, c + dc, plant_type))\n",
        "\n",
        "        return cells\n",
        "\n",
        "    for r in range(rows):\n",
        "        for c in range(cols):\n",
        "            if (r, c) not in visited:\n",
        "                region = dfs(r, c, grid[r][c])\n",
        "                if region:\n",
        "                    regions.append(region)\n",
        "\n",
        "    return regions\n",
        "\n",
        "def count_sides(region, grid):\n",
        "    rows, cols = len(grid), len(grid[0])\n",
        "    sides = 0\n",
        "    visited_edges = set()\n",
        "\n",
        "    def trace_line(r, c, dr, dc):\n",
        "        nr, nc = r + dr, c + dc\n",
        "        return (nr < 0 or nc < 0 or nr >= rows or nc >= cols or (nr, nc) not in region)\n",
        "\n",
        "    # Count horizontal lines\n",
        "    for r, c in region:\n",
        "        # Check up\n",
        "        if (r, c, 'u') not in visited_edges and trace_line(r, c, -1, 0):\n",
        "            start_c = c\n",
        "            while (r, start_c-1) in region and trace_line(r, start_c-1, -1, 0):\n",
        "                start_c -= 1\n",
        "            end_c = c\n",
        "            while (r, end_c+1) in region and trace_line(r, end_c+1, -1, 0):\n",
        "                end_c += 1\n",
        "            sides += 1\n",
        "            for i in range(start_c, end_c+1):\n",
        "                visited_edges.add((r, i, 'u'))\n",
        "\n",
        "        # Check down\n",
        "        if (r, c, 'd') not in visited_edges and trace_line(r, c, 1, 0):\n",
        "            start_c = c\n",
        "            while (r, start_c-1) in region and trace_line(r, start_c-1, 1, 0):\n",
        "                start_c -= 1\n",
        "            end_c = c\n",
        "            while (r, end_c+1) in region and trace_line(r, end_c+1, 1, 0):\n",
        "                end_c += 1\n",
        "            sides += 1\n",
        "            for i in range(start_c, end_c+1):\n",
        "                visited_edges.add((r, i, 'd'))\n",
        "\n",
        "    # Count vertical lines\n",
        "    for r, c in region:\n",
        "        # Check left\n",
        "        if (r, c, 'l') not in visited_edges and trace_line(r, c, 0, -1):\n",
        "            start_r = r\n",
        "            while (start_r-1, c) in region and trace_line(start_r-1, c, 0, -1):\n",
        "                start_r -= 1\n",
        "            end_r = r\n",
        "            while (end_r+1, c) in region and trace_line(end_r+1, c, 0, -1):\n",
        "                end_r += 1\n",
        "            sides += 1\n",
        "            for i in range(start_r, end_r+1):\n",
        "                visited_edges.add((i, c, 'l'))\n",
        "\n",
        "        # Check right\n",
        "        if (r, c, 'r') not in visited_edges and trace_line(r, c, 0, 1):\n",
        "            start_r = r\n",
        "            while (start_r-1, c) in region and trace_line(start_r-1, c, 0, 1):\n",
        "                start_r -= 1\n",
        "            end_r = r\n",
        "            while (end_r+1, c) in region and trace_line(end_r+1, c, 0, 1):\n",
        "                end_r += 1\n",
        "            sides += 1\n",
        "            for i in range(start_r, end_r+1):\n",
        "                visited_edges.add((i, c, 'r'))\n",
        "\n",
        "    return sides\n",
        "\n",
        "def solve_part2(input_text):\n",
        "    grid = [list(line.strip()) for line in input_text.strip().split('\\n')]\n",
        "    regions = find_regions(grid)\n",
        "\n",
        "    total_price = 0\n",
        "    for region in regions:\n",
        "        area = len(region)\n",
        "        num_sides = count_sides(region, grid)\n",
        "        price = area * num_sides\n",
        "        total_price += price\n",
        "\n",
        "    return total_price\n",
        "\n",
        "with open('input.txt', 'r') as f:\n",
        "    input_text = f.read()\n",
        "\n",
        "result = solve_part2(input_text)\n",
        "print(result)"
      ],
      "metadata": {
        "colab": {
          "base_uri": "https://localhost:8080/"
        },
        "id": "5iW4KuSOPx0W",
        "outputId": "c7cfbf1c-f9a1-465a-e1cd-5eca27d9079f"
      },
      "execution_count": null,
      "outputs": [
        {
          "output_type": "stream",
          "name": "stdout",
          "text": [
            "830516\n"
          ]
        }
      ]
    },
    {
      "cell_type": "markdown",
      "source": [
        "\n",
        "## Objectives\n",
        "1. Calculate the **total price** of fencing all regions using both methods.\n",
        "2. Implement efficient algorithms to handle larger maps.\n",
        "\n",
        "**Puzzle Completion:** Both parts solved, earning two gold stars! 🌟🌟\n"
      ],
      "metadata": {
        "id": "9Q_WWOMEyiJC"
      }
    }
  ]
}