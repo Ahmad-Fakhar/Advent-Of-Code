{
  "nbformat": 4,
  "nbformat_minor": 0,
  "metadata": {
    "colab": {
      "provenance": []
    },
    "kernelspec": {
      "name": "python3",
      "display_name": "Python 3"
    },
    "language_info": {
      "name": "python"
    }
  },
  "cells": [
    {
      "cell_type": "markdown",
      "source": [
        "# Day 20 Advent of Code\n",
        "## Problem 1 Part 1"
      ],
      "metadata": {
        "id": "q48Uk7DDXFJl"
      }
    },
    {
      "cell_type": "code",
      "source": [
        "\n",
        "def read_input(file_path):\n",
        "    with open(file_path, \"r\") as file:\n",
        "        data = file.read().strip().split(\"\\n\")\n",
        "    patterns = data[0].split(\", \")\n",
        "    designs = data[2:]\n",
        "    return patterns, designs\n",
        "\n",
        "def can_form_design(design, patterns):\n",
        "    n = len(design)\n",
        "    dp = [False] * (n + 1)\n",
        "    dp[0] = True  # Base case: empty string can always be formed\n",
        "\n",
        "    for i in range(1, n + 1):\n",
        "        for pattern in patterns:\n",
        "            if i >= len(pattern) and design[i - len(pattern):i] == pattern:\n",
        "                dp[i] = dp[i] or dp[i - len(pattern)]\n",
        "    return dp[n]\n",
        "\n",
        "def main():\n",
        "    patterns, designs = read_input(\"input.txt\")\n",
        "    possible_count = 0\n",
        "\n",
        "    for design in designs:\n",
        "        if can_form_design(design, patterns):\n",
        "            possible_count += 1\n",
        "\n",
        "    print(\"Number of possible designs:\", possible_count)\n",
        "\n",
        "if __name__ == \"__main__\":\n",
        "    main()\n",
        "\n"
      ],
      "metadata": {
        "colab": {
          "base_uri": "https://localhost:8080/"
        },
        "id": "Iemgwm7iRUto",
        "outputId": "a6777a5e-409a-4ae2-e044-a4d35dde789f"
      },
      "execution_count": 2,
      "outputs": [
        {
          "output_type": "stream",
          "name": "stdout",
          "text": [
            "Number of possible designs: 242\n"
          ]
        }
      ]
    },
    {
      "cell_type": "markdown",
      "source": [
        "## Part 2"
      ],
      "metadata": {
        "id": "JmS8wM1HXQxd"
      }
    },
    {
      "cell_type": "code",
      "source": [
        " def count_towel_arrangements(input_file):\n",
        "    with open(input_file, 'r') as file:\n",
        "        lines = file.read().strip().split('\\n')\n",
        "\n",
        "    # First line contains the available towel patterns\n",
        "    towel_patterns = lines[0].split(', ')\n",
        "    towel_set = set(towel_patterns)\n",
        "\n",
        "    # Remaining lines after the blank line are the desired designs\n",
        "    designs = lines[2:]\n",
        "\n",
        "    def count_ways_to_form_design(design):\n",
        "        # Use dynamic programming to count arrangements\n",
        "        dp = [0] * (len(design) + 1)\n",
        "        dp[0] = 1  # Base case: 1 way to form an empty design\n",
        "\n",
        "        for i in range(1, len(design) + 1):\n",
        "            for pattern in towel_set:\n",
        "                if i >= len(pattern) and design[i - len(pattern):i] == pattern:\n",
        "                    dp[i] += dp[i - len(pattern)]\n",
        "\n",
        "        return dp[-1]\n",
        "\n",
        "    # Sum up the number of arrangements for all designs\n",
        "    total_arrangements = sum(count_ways_to_form_design(design) for design in designs)\n",
        "    return total_arrangements\n",
        "\n",
        "# Example usage\n",
        "input_file = 'input.txt'\n",
        "result = count_towel_arrangements(input_file)\n",
        "print(f\"Total number of ways to arrange the designs: {result}\")\n"
      ],
      "metadata": {
        "colab": {
          "base_uri": "https://localhost:8080/"
        },
        "id": "irNV0yIjRUp7",
        "outputId": "e00e23df-f753-44e2-eaa1-4770cfc13c9a"
      },
      "execution_count": 3,
      "outputs": [
        {
          "output_type": "stream",
          "name": "stdout",
          "text": [
            "Total number of ways to arrange the designs: 595975512785325\n"
          ]
        }
      ]
    }
  ]
}