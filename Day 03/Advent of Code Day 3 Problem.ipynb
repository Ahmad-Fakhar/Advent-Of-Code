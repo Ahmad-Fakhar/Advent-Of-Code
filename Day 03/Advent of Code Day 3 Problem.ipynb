{
  "cells": [
    {
      "cell_type": "markdown",
      "source": [
        "# Solving Corrupted Memory Problem\n",
        "\n",
        "## Problem Overview\n",
        "The task is to scan a corrupted computer memory for valid multiplication instructions of the form `mul(X,Y)` and calculate the sum of the results of these instructions. Invalid sequences resembling `mul` instructions should be ignored.\n",
        "\n",
        "---\n",
        "\n",
        "## Approach\n",
        "1. **Identify Valid Instructions:**\n",
        "   - Use a regular expression to extract only correctly formatted `mul(X,Y)` instructions.\n",
        "   - Valid instructions:\n",
        "     - Start with `mul(`\n",
        "     - Contain two 1-3 digit integers separated by a comma.\n",
        "     - Close properly with `)`.\n",
        "\n",
        "2. **Extract and Compute Results:**\n",
        "   - Use the regex to find all valid `mul` instructions.\n",
        "   - Multiply the two integers for each match.\n",
        "\n",
        "3. **Summing the Results:**\n",
        "   - Add the results of all valid instructions to produce the final sum."
      ],
      "metadata": {
        "id": "dstmqgBY8puL"
      }
    },
    {
      "cell_type": "code",
      "source": [
        "import re\n",
        "\n",
        "def solve_corrupted_memory(i):\n",
        "    pattern = r'mul\\((\\d{1,3})\\s*,\\s*(\\d{1,3})\\)'\n",
        "    matches = re.findall(pattern, i)\n",
        "    result = sum(int(x) * int(y) for x, y in matches)\n",
        "\n",
        "    return result"
      ],
      "metadata": {
        "id": "qtx_Hb2z5Qkf"
      },
      "execution_count": null,
      "outputs": []
    },
    {
      "cell_type": "code",
      "source": [
        "input =\"\"\n",
        "result = solve_corrupted_memory(input)\n",
        "print(f\"Sum of all multiplication results: {result}\")"
      ],
      "metadata": {
        "id": "nR7H7BCY84od"
      },
      "execution_count": null,
      "outputs": []
    },
    {
      "cell_type": "markdown",
      "source": [
        "# Handling Enabled and Disabled Multiplications\n",
        "\n",
        "## Problem Overview\n",
        "In addition to finding valid `mul(X,Y)` instructions, we now need to account for new instructions:\n",
        "- `do()`: Enables future `mul` instructions.\n",
        "- `don't()`: Disables future `mul` instructions.\n",
        "- Only the most recent `do()` or `don't()` applies, and initially, `mul` instructions are enabled.\n",
        "\n",
        "### Example Input\n"
      ],
      "metadata": {
        "id": "2rQNsTkw8_fN"
      }
    },
    {
      "cell_type": "markdown",
      "source": [
        "### Expected Output\n",
        "Only the enabled `mul` instructions contribute to the sum:\n",
        "- `2*4` (enabled initially)\n",
        "- `8*5` (re-enabled by `do()`)\n",
        "\n",
        "**Sum:** `48`\n",
        "\n",
        "---\n",
        "\n",
        "## Approach\n",
        "\n",
        "### Steps:\n",
        "1. **Regex Patterns:**\n",
        "   - Match valid `mul(X,Y)` instructions.\n",
        "   - Detect `do()` and `don't()` instructions.\n",
        "\n",
        "2. **Track State:**\n",
        "   - Use a `mul_enabled` flag to track whether `mul` instructions are currently enabled.\n",
        "\n",
        "3. **Process Instructions in Order:**\n",
        "   - Extract all instructions using regex and sort them based on their positions in the string.\n",
        "   - Update the state (`mul_enabled`) based on `do()` or `don't()` instructions.\n",
        "   - Compute results for `mul` instructions only when `mul_enabled` is `True`.\n"
      ],
      "metadata": {
        "id": "n1mOi4jH9oL9"
      }
    },
    {
      "cell_type": "code",
      "source": [
        "import re\n",
        "\n",
        "def solve_corrupted_memory_part_two(i):\n",
        "    mul_pattern = r'mul\\((\\d{1,3})\\s*,\\s*(\\d{1,3})\\)'\n",
        "    do_pattern = r'do\\(\\)'\n",
        "    dont_pattern = r'don\\'t\\(\\)'\n",
        "    mul_enabled = True\n",
        "    total_result = 0\n",
        "    mul_matches = list(re.finditer(mul_pattern, i))\n",
        "    do_matches = list(re.finditer(do_pattern, i))\n",
        "    dont_matches = list(re.finditer(dont_pattern, i))\n",
        "    all_matches = sorted(\n",
        "        mul_matches + do_matches + dont_matches,\n",
        "        key=lambda x: x.start()\n",
        "    )\n",
        "\n",
        "    for match in all_matches:\n",
        "        if match.group() == 'do()':\n",
        "            mul_enabled = True\n",
        "        elif match.group() == 'don\\'t()':\n",
        "            mul_enabled = False\n",
        "        elif match.group().startswith('mul('):\n",
        "            # Only compute if multiplication is currently enabled\n",
        "            if mul_enabled:\n",
        "                x, y = match.groups()\n",
        "                total_result += int(x) * int(y)\n",
        "\n",
        "    return total_result"
      ],
      "metadata": {
        "id": "2a_kjDfd9VD-"
      },
      "execution_count": null,
      "outputs": []
    },
    {
      "cell_type": "code",
      "source": [
        "input= \"\"\n",
        "result = solve_corrupted_memory_part_two(input)\n",
        "print(f\"Sum of enabled multiplication results: {result}\")"
      ],
      "metadata": {
        "id": "uIAirPRD90j9"
      },
      "execution_count": null,
      "outputs": []
    }
  ],
  "metadata": {
    "colab": {
      "name": "Welcome to Colaboratory",
      "toc_visible": true,
      "provenance": []
    },
    "kernelspec": {
      "display_name": "Python 3",
      "name": "python3"
    }
  },
  "nbformat": 4,
  "nbformat_minor": 0
}
