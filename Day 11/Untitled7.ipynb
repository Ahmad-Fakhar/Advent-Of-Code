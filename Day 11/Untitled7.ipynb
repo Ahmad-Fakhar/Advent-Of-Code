{
  "nbformat": 4,
  "nbformat_minor": 0,
  "metadata": {
    "colab": {
      "provenance": []
    },
    "kernelspec": {
      "name": "python3",
      "display_name": "Python 3"
    },
    "language_info": {
      "name": "python"
    }
  },
  "cells": [
    {
      "cell_type": "markdown",
      "source": [
        "# Plutonian Pebbles\n",
        "\n",
        "The ancient civilization on Pluto was renowned for its ability to manipulate spacetime. Historians exploring these corridors discovered peculiar physics-defying stones arranged in a straight line, each engraved with a number. However, every blink causes the stones to transform in consistent ways:\n",
        "\n",
        "## Transformation Rules:\n",
        "1. **Engraving is `0`:** Replaced with `1`.\n",
        "2. **Even number of digits:** Split into two stones, left and right halves of the digits.\n",
        "   - Example: `1000` becomes `10` and `0`.\n",
        "3. **Otherwise:** Multiplied by `2024`.\n",
        "\n",
        "The stones always maintain their order and alignment after transformations.\n",
        "\n",
        "## Example Transformations:\n",
        "### Initial arrangement:\n",
        "`125 17`\n",
        "\n",
        "1. **After 1 Blink:**\n",
        "   - `253000 1 7`\n",
        "2. **After 2 Blinks:**\n",
        "   - `253 0 2024 14168`\n",
        "3. **After 3 Blinks:**\n",
        "   - `512072 1 20 24 28676032`\n",
        "4. **After 4 Blinks:**\n",
        "   - `512 72 2024 2 0 2 4 2867 6032`\n",
        "5. **After 5 Blinks:**\n",
        "   - `1036288 7 2 20 24 4048 1 4048 8096 28 67 60 32`\n",
        "6. **After 6 Blinks:**\n",
        "   - `2097446912 14168 4048 2 0 2 4 40 48 2024 40 48 80 96 2 8 6 7 6 0 3 2`\n",
        "\n",
        "After **6 blinks**, there are 22 stones.  \n",
        "After **25 blinks**, there will be **55312 stones**.\n",
        "\n",
        "### Challenge:\n",
        "Given an initial arrangement of stones (your puzzle input), determine how many stones will exist after **25 blinks**.\n"
      ],
      "metadata": {
        "id": "ZbYCUlEnIc_Q"
      }
    },
    {
      "cell_type": "code",
      "execution_count": 1,
      "metadata": {
        "colab": {
          "base_uri": "https://localhost:8080/"
        },
        "id": "5wbFIZw6DN7V",
        "outputId": "e280553d-27e8-4795-9517-cfa855e6c0e7"
      },
      "outputs": [
        {
          "output_type": "stream",
          "name": "stdout",
          "text": [
            "Number of stones after 25 blinks: 207683\n"
          ]
        }
      ],
      "source": [
        "def transform_stones(stones):\n",
        "    \"\"\"\n",
        "    Transform stones according to the given rules:\n",
        "    1. If stone is 0, replace with 1\n",
        "    2. If stone has even number of digits, split into two stones\n",
        "    3. Otherwise, multiply stone by 2024\n",
        "    \"\"\"\n",
        "    new_stones = []\n",
        "\n",
        "    for stone in stones:\n",
        "        # Rule 1: If stone is 0, replace with 1\n",
        "        if stone == 0:\n",
        "            new_stones.append(1)\n",
        "\n",
        "        # Rule 2: If stone has even number of digits, split the stone\n",
        "        elif len(str(stone)) % 2 == 0:\n",
        "            stone_str = str(stone)\n",
        "            mid = len(stone_str) // 2\n",
        "            left_stone = int(stone_str[:mid])\n",
        "            right_stone = int(stone_str[mid:])\n",
        "\n",
        "            # Remove leading zeros\n",
        "            left_stone = int(str(left_stone))\n",
        "            right_stone = int(str(right_stone))\n",
        "\n",
        "            new_stones.extend([left_stone, right_stone])\n",
        "\n",
        "        # Rule 3: Multiply stone by 2024\n",
        "        else:\n",
        "            new_stones.append(stone * 2024)\n",
        "\n",
        "    return new_stones\n",
        "\n",
        "def simulate_blinks(initial_stones, num_blinks):\n",
        "    \"\"\"\n",
        "    Simulate stone transformations for specified number of blinks\n",
        "    \"\"\"\n",
        "    stones = initial_stones.copy()\n",
        "\n",
        "    for _ in range(num_blinks):\n",
        "        stones = transform_stones(stones)\n",
        "\n",
        "    return stones\n",
        "\n",
        "def main():\n",
        "    # Read input from file\n",
        "    with open('input.txt', 'r') as file:\n",
        "        initial_stones = [int(x) for x in file.read().split()]\n",
        "\n",
        "    # Simulate 25 blinks\n",
        "    final_stones = simulate_blinks(initial_stones, 25)\n",
        "\n",
        "    # Print number of stones after 25 blinks\n",
        "    print(f\"Number of stones after 25 blinks: {len(final_stones)}\")\n",
        "\n",
        "if __name__ == \"__main__\":\n",
        "    main()"
      ]
    },
    {
      "cell_type": "markdown",
      "source": [
        "#Part 2\n",
        "##The Historians sure are taking a long time. To be fair, the infinite corridors are very large.\n",
        "\n",
        "##How many stones would you have after blinking a total of 75 times?"
      ],
      "metadata": {
        "id": "JXasYbjrJHwO"
      }
    },
    {
      "cell_type": "code",
      "source": [
        "def simulate_blinks_count(stones, num_blinks):\n",
        "    \"\"\"\n",
        "    Simulate the evolution of stones by counting their behavior.\n",
        "    \"\"\"\n",
        "    from collections import Counter\n",
        "    # Count the initial stones\n",
        "    stone_counts = Counter(stones)  # {stone_value: count}\n",
        "\n",
        "    for _ in range(num_blinks):\n",
        "        new_counts = Counter()\n",
        "        for stone, count in stone_counts.items():\n",
        "            if stone == 0:\n",
        "                new_counts[1] += count\n",
        "            elif len(str(stone)) % 2 == 0:  # Even number of digits\n",
        "                stone_str = str(stone)\n",
        "                mid = len(stone_str) // 2\n",
        "                left = int(stone_str[:mid])\n",
        "                right = int(stone_str[mid:])\n",
        "                new_counts[left] += count\n",
        "                new_counts[right] += count\n",
        "            else:\n",
        "                new_counts[stone * 2024] += count\n",
        "        stone_counts = new_counts\n",
        "\n",
        "    # Total number of stones\n",
        "    return sum(stone_counts.values())\n",
        "\n",
        "\n",
        "def main():\n",
        "    # Read initial stones from input.txt\n",
        "    file_path = \"input.txt\"\n",
        "    with open(file_path, 'r') as file:\n",
        "        content = file.read().strip()\n",
        "\n",
        "    # Extract initial stones (assume they are space-separated integers)\n",
        "    initial_stones = list(map(int, content.split()))\n",
        "\n",
        "    # Simulate blinks\n",
        "    num_blinks = 75\n",
        "    total_stones = simulate_blinks_count(initial_stones, num_blinks)\n",
        "\n",
        "    # Output the number of stones\n",
        "    print(\"Number of stones after 75 blinks:\", total_stones)\n",
        "\n",
        "\n",
        "if __name__ == \"__main__\":\n",
        "    main()\n"
      ],
      "metadata": {
        "colab": {
          "base_uri": "https://localhost:8080/"
        },
        "id": "CbL1YfJbDaJg",
        "outputId": "45917d03-c960-4225-95ef-fc5c88e934e2"
      },
      "execution_count": 4,
      "outputs": [
        {
          "output_type": "stream",
          "name": "stdout",
          "text": [
            "Number of stones after 75 blinks: 244782991106220\n"
          ]
        }
      ]
    },
    {
      "cell_type": "code",
      "source": [],
      "metadata": {
        "id": "kS66EfZkDafW"
      },
      "execution_count": null,
      "outputs": []
    },
    {
      "cell_type": "code",
      "source": [],
      "metadata": {
        "id": "Uaj2mSGQE5LV"
      },
      "execution_count": null,
      "outputs": []
    }
  ]
}