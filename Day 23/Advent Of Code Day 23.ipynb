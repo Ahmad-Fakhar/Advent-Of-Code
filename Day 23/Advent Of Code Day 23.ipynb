{
  "nbformat": 4,
  "nbformat_minor": 0,
  "metadata": {
    "colab": {
      "provenance": []
    },
    "kernelspec": {
      "name": "python3",
      "display_name": "Python 3"
    },
    "language_info": {
      "name": "python"
    }
  },
  "cells": [
    {
      "cell_type": "markdown",
      "source": [
        "## Advent Of Code 2024 Day 23\n",
        "## LAN Party\n",
        "### As The Historians wander around a secure area at Easter Bunny HQ, you come across posters for a LAN party scheduled for today! Maybe you can find it; you connect to a nearby datalink port and download a map of the local network (your puzzle input).\n",
        "\n",
        "- The network map provides a list of every connection between two computers."
      ],
      "metadata": {
        "id": "Cm9XITE8FboC"
      }
    },
    {
      "cell_type": "code",
      "execution_count": 3,
      "metadata": {
        "id": "El2sOuAR2GfM",
        "colab": {
          "base_uri": "https://localhost:8080/"
        },
        "outputId": "3b2bf188-1eaf-4117-e43e-617cada98d5d"
      },
      "outputs": [
        {
          "output_type": "stream",
          "name": "stdout",
          "text": [
            "Total triangles with 't': 1599\n"
          ]
        }
      ],
      "source": [
        "from collections import defaultdict\n",
        "\n",
        "# Step 1: Read the input file and parse the connections\n",
        "def read_input(filename):\n",
        "    with open(filename, 'r') as file:\n",
        "        connections = [line.strip().split('-') for line in file.readlines()]\n",
        "    return connections\n",
        "\n",
        "# Step 2: Build an undirected graph from the connections\n",
        "def build_graph(connections):\n",
        "    graph = defaultdict(set)\n",
        "    for a, b in connections:\n",
        "        graph[a].add(b)\n",
        "        graph[b].add(a)\n",
        "    return graph\n",
        "\n",
        "# Step 3: Find triangles (sets of three interconnected nodes)\n",
        "def find_triangles(graph):\n",
        "    triangles = set()\n",
        "    for node in graph:\n",
        "        neighbors = list(graph[node])\n",
        "        n = len(neighbors)\n",
        "        for i in range(n):\n",
        "            for j in range(i + 1, n):\n",
        "                if neighbors[j] in graph[neighbors[i]]:\n",
        "                    triangle = tuple(sorted([node, neighbors[i], neighbors[j]]))\n",
        "                    triangles.add(triangle)\n",
        "    return triangles\n",
        "\n",
        "# Step 4: Filter triangles containing nodes starting with 't'\n",
        "def filter_triangles(triangles):\n",
        "    return [triangle for triangle in triangles if any(node.startswith('t') for node in triangle)]\n",
        "\n",
        "# Step 5: Main function to execute all steps\n",
        "def main():\n",
        "    connections = read_input('input.txt')\n",
        "    graph = build_graph(connections)\n",
        "    triangles = find_triangles(graph)\n",
        "    filtered_triangles = filter_triangles(triangles)\n",
        "    print(\"Total triangles with 't':\", len(filtered_triangles))\n",
        "\n",
        "if __name__ == '__main__':\n",
        "    main()\n"
      ]
    },
    {
      "cell_type": "markdown",
      "source": [
        "## Part Two\n",
        "## There are still way too many results to go through them all. You'll have to find the LAN party another way and go there yourself.\n",
        "\n",
        "## Since it doesn't seem like any employees are around, you figure they must all be at the LAN party. If that's true, the LAN party will be the largest set of computers that a"
      ],
      "metadata": {
        "id": "CxoqBKE5Fw7D"
      }
    },
    {
      "cell_type": "code",
      "source": [
        "from collections import defaultdict\n",
        "\n",
        "def read_input(file_name):\n",
        "    \"\"\"Reads input from the specified file.\"\"\"\n",
        "    with open(file_name, 'r') as file:\n",
        "        connections = [line.strip().split('-') for line in file]\n",
        "    return connections\n",
        "\n",
        "def bron_kerbosch(graph, r, p, x, cliques):\n",
        "    \"\"\"Bron-Kerbosch algorithm to find maximal cliques.\"\"\"\n",
        "    if not p and not x:\n",
        "        cliques.append(r)\n",
        "        return\n",
        "    for v in list(p):\n",
        "        bron_kerbosch(\n",
        "            graph,\n",
        "            r.union({v}),\n",
        "            p.intersection(graph[v]),\n",
        "            x.intersection(graph[v]),\n",
        "            cliques\n",
        "        )\n",
        "        p.remove(v)\n",
        "        x.add(v)\n",
        "\n",
        "def find_maximal_cliques(graph):\n",
        "    \"\"\"Finds all maximal cliques in the graph.\"\"\"\n",
        "    cliques = []\n",
        "    bron_kerbosch(graph, set(), set(graph.keys()), set(), cliques)\n",
        "    return cliques\n",
        "\n",
        "def find_largest_clique(cliques):\n",
        "    \"\"\"Finds the largest clique among all cliques.\"\"\"\n",
        "    return max(cliques, key=len)\n",
        "\n",
        "def generate_password(clique):\n",
        "    \"\"\"Generates the password from the largest clique.\"\"\"\n",
        "    return \",\".join(sorted(clique))\n",
        "\n",
        "def main():\n",
        "    # Input file name\n",
        "    input_file = \"input.txt\"\n",
        "\n",
        "    # Read input connections\n",
        "    connections = read_input(input_file)\n",
        "\n",
        "    # Build the adjacency list\n",
        "    graph = defaultdict(set)\n",
        "    for a, b in connections:\n",
        "        graph[a].add(b)\n",
        "        graph[b].add(a)\n",
        "\n",
        "    # Find all maximal cliques\n",
        "    cliques = find_maximal_cliques(graph)\n",
        "\n",
        "    # Find the largest clique\n",
        "    largest_clique = find_largest_clique(cliques)\n",
        "\n",
        "    # Generate the password\n",
        "    password = generate_password(largest_clique)\n",
        "    print(f\"Password to the LAN party: {password}\")\n",
        "\n",
        "if __name__ == \"__main__\":\n",
        "    main()\n",
        ""
      ],
      "metadata": {
        "id": "-OtXVeYg2rDS",
        "colab": {
          "base_uri": "https://localhost:8080/"
        },
        "outputId": "953ff3ec-1478-416c-c7e5-503a7b8e280d"
      },
      "execution_count": 4,
      "outputs": [
        {
          "output_type": "stream",
          "name": "stdout",
          "text": [
            "Password to the LAN party: av,ax,dg,di,dw,fa,ge,kh,ki,ot,qw,vz,yw\n"
          ]
        }
      ]
    }
  ]
}